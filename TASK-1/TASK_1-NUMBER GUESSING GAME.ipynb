{
 "cells": [
  {
   "cell_type": "markdown",
   "id": "83ac10cb",
   "metadata": {},
   "source": [
    "# Info aidTech Internship"
   ]
  },
  {
   "cell_type": "markdown",
   "id": "42d2a41c",
   "metadata": {},
   "source": [
    "# TASK NO =1"
   ]
  },
  {
   "cell_type": "markdown",
   "id": "d5c32990",
   "metadata": {},
   "source": [
    "# TASK NAME = NUMBER GUESSING GAME"
   ]
  },
  {
   "cell_type": "code",
   "execution_count": 1,
   "id": "a374bf84",
   "metadata": {},
   "outputs": [
    {
     "name": "stdout",
     "output_type": "stream",
     "text": [
      "Welcome to the Number Guessing Game!\n",
      "What's your name? SATHIYAPRAVIN P\n",
      "Hello, SATHIYAPRAVIN P! Lets start with the general instructions:\n",
      " I'm thinking of a number between 1 and 100.\n",
      "You should guess the number within 10 attempts, otherwise game is over\n",
      "Take a guess: 45\n",
      "That's a smaller number..please try again\n",
      "Caution!! You have reached 1 attempt.\n",
      "Take a guess: 55\n",
      "That's a larger..please try again\n",
      "Caution!! You have reached 2 attempt.\n",
      "Take a guess: 48\n",
      "That's a smaller number..please try again\n",
      "Caution!! You have reached 3 attempt.\n",
      "Take a guess: 49\n",
      "That's a smaller number..please try again\n",
      "Caution!! You have reached 4 attempt.\n",
      "Take a guess: 50\n",
      "Congratulations, SATHIYAPRAVIN P! You guessed the number in 5 attempts.\n",
      "Do you want to play again? (yes/no): no\n",
      "Thank you for playing!\n"
     ]
    }
   ],
   "source": [
    "import random\n",
    "\n",
    "print(\"Welcome to the Number Guessing Game!\")\n",
    "\n",
    "while True:\n",
    "    name = input(\"What's your name? \")\n",
    "    print(f\"Hello, {name}! Lets start with the general instructions:\")\n",
    "    print(\" I'm thinking of a number between 1 and 100.\")\n",
    "    print(\"You should guess the number within 10 attempts, otherwise game is over\")\n",
    "\n",
    "    guessno = random.randint(1, 100)\n",
    "    attempts = 0\n",
    "\n",
    "    while attempts < 10:\n",
    "        guess = int(input(\"Take a guess: \"))\n",
    "        attempts += 1\n",
    "\n",
    "        if guess < guessno:\n",
    "            print(\"That's a smaller number..please try again\")\n",
    "            print(f\"Caution!! You have reached {attempts} attempt.\")\n",
    "        elif guess > guessno:\n",
    "            print(\"That's a larger..please try again\")\n",
    "            print(f\"Caution!! You have reached {attempts} attempt.\")\n",
    "        else:\n",
    "            print(f\"Congratulations, {name}! You guessed the number in {attempts} attempts.\")\n",
    "            break\n",
    "    else:\n",
    "        print(f\"Game over! You couldn't guess the number. It was {guessno}.\")\n",
    "\n",
    "    choice = input(\"Do you want to play again? (yes/no): \")\n",
    "    if choice.lower() != \"yes\":\n",
    "        print(\"Thank you for playing!\")\n",
    "        break\n"
   ]
  }
 ],
 "metadata": {
  "kernelspec": {
   "display_name": "Python 3 (ipykernel)",
   "language": "python",
   "name": "python3"
  },
  "language_info": {
   "codemirror_mode": {
    "name": "ipython",
    "version": 3
   },
   "file_extension": ".py",
   "mimetype": "text/x-python",
   "name": "python",
   "nbconvert_exporter": "python",
   "pygments_lexer": "ipython3",
   "version": "3.10.9"
  }
 },
 "nbformat": 4,
 "nbformat_minor": 5
}

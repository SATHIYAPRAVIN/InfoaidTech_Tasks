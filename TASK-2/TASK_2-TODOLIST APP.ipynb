{
 "cells": [
  {
   "cell_type": "markdown",
   "id": "0ae6534d",
   "metadata": {},
   "source": [
    "# Info aidTech Internship"
   ]
  },
  {
   "cell_type": "markdown",
   "id": "e0bf95e9",
   "metadata": {},
   "source": [
    "# TASK NO =2\n"
   ]
  },
  {
   "cell_type": "markdown",
   "id": "926e04dc",
   "metadata": {},
   "source": [
    "# TASK NAME = TODOLIST APP"
   ]
  },
  {
   "cell_type": "code",
   "execution_count": 18,
   "id": "d41418ce",
   "metadata": {},
   "outputs": [],
   "source": [
    "import tkinter as tk\n",
    "from tkinter import messagebox\n",
    "\n",
    "class TodoListApp:\n",
    "    def __init__(self, root):\n",
    "        self.root = root\n",
    "        self.root.title(\"Colorful To-Do List App\")\n",
    "\n",
    "        self.tasks = []\n",
    "\n",
    "        self.task_entry = tk.Entry(root, bg=\"lightgray\", font=(\"Helvetica\", 14))\n",
    "        self.task_entry.pack(pady=10)\n",
    "\n",
    "        self.add_button = tk.Button(root, text=\"Add Task\", command=self.add_task, bg=\"green\", fg=\"white\", font=(\"Helvetica\", 12, \"bold\"))\n",
    "        self.add_button.pack()\n",
    "\n",
    "        self.remove_button = tk.Button(root, text=\"Remove Task\", command=self.remove_task, bg=\"red\", fg=\"white\", font=(\"Helvetica\", 12, \"bold\"))\n",
    "        self.remove_button.pack()\n",
    "\n",
    "        self.show_button = tk.Button(root, text=\"Show Tasks\", command=self.show_tasks, bg=\"blue\", fg=\"white\", font=(\"Helvetica\", 12, \"bold\"))\n",
    "        self.show_button.pack()\n",
    "\n",
    "        self.exit_button = tk.Button(root, text=\"Exit\", command=root.destroy, bg=\"gray\", fg=\"white\", font=(\"Helvetica\", 12, \"bold\"))\n",
    "        self.exit_button.pack()\n",
    "\n",
    "    def add_task(self):\n",
    "        task = self.task_entry.get()\n",
    "        if task:\n",
    "            self.tasks.append(task)\n",
    "            messagebox.showinfo(\"Task Added\", f\"Task '{task}' added successfully.\")\n",
    "            self.task_entry.delete(0, tk.END)\n",
    "        else:\n",
    "            messagebox.showwarning(\"Empty Task\", \"Please enter a task.\")\n",
    "\n",
    "    def remove_task(self):\n",
    "        task = self.task_entry.get()\n",
    "        if task in self.tasks:\n",
    "            self.tasks.remove(task)\n",
    "            messagebox.showinfo(\"Task Removed\", f\"Task '{task}' removed successfully.\")\n",
    "        else:\n",
    "            messagebox.showwarning(\"Task Not Found\", f\"Task '{task}' not found.\")\n",
    "\n",
    "        self.task_entry.delete(0, tk.END)\n",
    "\n",
    "    def show_tasks(self):\n",
    "        if self.tasks:\n",
    "            task_list = \"\\n\".join(self.tasks)\n",
    "            messagebox.showinfo(\"Tasks\", task_list)\n",
    "        else:\n",
    "            messagebox.showinfo(\"No Tasks\", \"No tasks in the list.\")\n",
    "\n",
    "def main():\n",
    "    root = tk.Tk()\n",
    "    app = TodoListApp(root)\n",
    "    root.mainloop()\n",
    "\n",
    "if __name__ == \"__main__\":\n",
    "    main()\n"
   ]
  },
  {
   "cell_type": "code",
   "execution_count": null,
   "id": "092e26b0",
   "metadata": {},
   "outputs": [],
   "source": []
  }
 ],
 "metadata": {
  "kernelspec": {
   "display_name": "Python 3 (ipykernel)",
   "language": "python",
   "name": "python3"
  },
  "language_info": {
   "codemirror_mode": {
    "name": "ipython",
    "version": 3
   },
   "file_extension": ".py",
   "mimetype": "text/x-python",
   "name": "python",
   "nbconvert_exporter": "python",
   "pygments_lexer": "ipython3",
   "version": "3.10.9"
  }
 },
 "nbformat": 4,
 "nbformat_minor": 5
}

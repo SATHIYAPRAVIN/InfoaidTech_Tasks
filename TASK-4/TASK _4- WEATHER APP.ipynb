{
 "cells": [
  {
   "cell_type": "markdown",
   "id": "ace58576",
   "metadata": {},
   "source": [
    "# Info aidTech Internship"
   ]
  },
  {
   "cell_type": "markdown",
   "id": "4397c62d",
   "metadata": {},
   "source": [
    "# TASK NO =4"
   ]
  },
  {
   "cell_type": "markdown",
   "id": "91594baa",
   "metadata": {},
   "source": [
    "# TASK NAME = WEATHER APP"
   ]
  },
  {
   "cell_type": "code",
   "execution_count": 4,
   "id": "0b5fd9ad",
   "metadata": {},
   "outputs": [],
   "source": [
    "from tkinter import*\n",
    "from tkinter import ttk\n",
    "import requests \n",
    "\n",
    "\n",
    "def data_get():\n",
    "    city=city_name.get()\n",
    "    data=requests.get(\"https://api.openweathermap.org/data/2.5/weather?q=\"+city+\"&appid=6b4d3f7fcaf0b11bb8a12a56a8d70924\").json()\n",
    "    w_label1.config(text=data[\"weather\"][0][\"main\"])\n",
    "    wb_label1.config(text=data[\"weather\"][0][\"description\"])\n",
    "    temp_label.config(text=str(int(data[\"main\"][\"temp\"]-273.15)))\n",
    "    pres_label1.config(text=data[\"main\"][\"pressure\"])\n",
    "\n",
    "win=Tk()\n",
    "win.title(\"Weather App\")\n",
    "win.config(bg=\"skyblue\")\n",
    "win.geometry(\"500x570\")\n",
    "\n",
    "name_label=Label(win,text=\"Weather App\",font=(\"Times New Roman\",30,\"bold\"))\n",
    "name_label.place(x=25,y=50,height=50,width=450)\n",
    "\n",
    "city_name=StringVar()\n",
    "list_name=[\"Andhra Pradesh\",\"Arunachal Pradesh \",\"Assam\",\"Bihar\",\"Chhattisgarh\",\"Goa\",\"Gujarat\",\"Haryana\",\"Himachal Pradesh\",\"Jammu and Kashmir\",\"Jharkhand\",\"Karnataka\",\"Kerala\",\"Madhya Pradesh\",\"Maharashtra\",\"Manipur\",\"Meghalaya\",\"Mizoram\",\"Nagaland\",\"Odisha\",\"Punjab\",\"Rajasthan\",\"Sikkim\",\"Tamil Nadu\",\"Telangana\",\"Tripura\",\"Uttar Pradesh\",\"Uttarakhand\",\"West Bengal\",\"Andaman and Nicobar Islands\",\"Chandigarh\",\"Dadra and Nagar Haveli\",\"Daman and Diu\",\"Lakshadweep\",\"National Capital Territory of Delhi\",\"Puducherry\"]\n",
    "com=ttk.Combobox(win,text=\"Weather App\",values=list_name ,font=(\"Times New Roman\",22,\"bold\"),textvariable=city_name)\n",
    "com.place(x=25,y=120,height=50,width=450)\n",
    "\n",
    "w_label=Label(win,text=\"Weather Climate\",font=(\"Times New Roman\",20))\n",
    "w_label.place(x=25,y=260,height=50,width=210)\n",
    "w_label1=Label(win,text=\"\",font=(\"Times New Roman\",20))\n",
    "w_label1.place(x=250,y=260,height=50,width=210)\n",
    "\n",
    "wb_label=Label(win,text=\"Weather Description\",font=(\"Times New Roman\",17))\n",
    "wb_label.place(x=25,y=330,height=50,width=210)\n",
    "wb_label1=Label(win,text=\"\",font=(\"Times New Roman\",17))\n",
    "wb_label1.place(x=250,y=330,height=50,width=210)\n",
    "\n",
    "temp_label=Label(win,text=\"Temperature\",font=(\"Times New Roman\",20))\n",
    "temp_label.place(x=25,y=400,height=50,width=210)\n",
    "temp_label1=Label(win,text=\"\",font=(\"Times New Roman\",20))\n",
    "temp_label1.place(x=250,y=400,height=50,width=210)\n",
    "\n",
    "pres_label=Label(win,text=\"Pressure\",font=(\"Times New Roman\",20))\n",
    "pres_label.place(x=25,y=470,height=50,width=210)\n",
    "pres_label1=Label(win,text=\"\",font=(\"Times New Roman\",20))\n",
    "pres_label1.place(x=250,y=470,height=50,width=210)\n",
    "\n",
    "done_button=Button(win,text=\"Done\",font=(\"Times New Roman\",20,\"bold\"),command=data_get)\n",
    "done_button.place(y=190,height=50,width=100,x=200)\n",
    "\n",
    "win.mainloop()"
   ]
  },
  {
   "cell_type": "code",
   "execution_count": null,
   "id": "8b3facb7",
   "metadata": {},
   "outputs": [],
   "source": []
  }
 ],
 "metadata": {
  "kernelspec": {
   "display_name": "Python 3 (ipykernel)",
   "language": "python",
   "name": "python3"
  },
  "language_info": {
   "codemirror_mode": {
    "name": "ipython",
    "version": 3
   },
   "file_extension": ".py",
   "mimetype": "text/x-python",
   "name": "python",
   "nbconvert_exporter": "python",
   "pygments_lexer": "ipython3",
   "version": "3.10.9"
  }
 },
 "nbformat": 4,
 "nbformat_minor": 5
}

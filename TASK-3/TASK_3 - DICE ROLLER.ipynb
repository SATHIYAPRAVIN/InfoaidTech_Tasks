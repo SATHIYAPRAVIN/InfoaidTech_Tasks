{
 "cells": [
  {
   "cell_type": "markdown",
   "id": "7c099ffb",
   "metadata": {},
   "source": [
    "# Info aidTech Internship"
   ]
  },
  {
   "cell_type": "markdown",
   "id": "7aa59aee",
   "metadata": {},
   "source": [
    "# TASK NO =3"
   ]
  },
  {
   "cell_type": "markdown",
   "id": "21194ba0",
   "metadata": {},
   "source": [
    "# TASK NAME=DICE ROLLER"
   ]
  },
  {
   "cell_type": "code",
   "execution_count": 1,
   "id": "9d93b349",
   "metadata": {},
   "outputs": [],
   "source": [
    "import tkinter as tk\n",
    "from PIL import Image, ImageTk\n",
    "import random\n",
    "import time\n",
    "\n",
    "window = tk.Tk()\n",
    "window.geometry(\"500x360\")\n",
    "window.title(\"Dice Roll\")\n",
    "\n",
    "dice = [\n",
    "    \"dice-six-faces-one.png\", \"dice-six-faces-two.png\", \"dice-six-faces-three.png\",\n",
    "    \"dice-six-faces-four.png\", \"dice-six-faces-five.png\", \"dice-six-faces-six.png\"\n",
    "]\n",
    "\n",
    "def dice_roll_animation(label, iterations, delay):\n",
    "    for _ in range(iterations):\n",
    "        image = ImageTk.PhotoImage(Image.open(random.choice(dice)))\n",
    "        label.configure(image=image)\n",
    "        label.image = image\n",
    "        window.update()\n",
    "        time.sleep(delay)\n",
    "\n",
    "def dice_roll():\n",
    "    dice_roll_animation(label1, 10, 0.1)  # Adjust iterations and delay as needed\n",
    "    image1 = ImageTk.PhotoImage(Image.open(random.choice(dice)))\n",
    "    label1.configure(image=image1)\n",
    "    label1.image = image1\n",
    "\n",
    "    dice_roll_animation(label2, 10, 0.1)\n",
    "    image2 = ImageTk.PhotoImage(Image.open(random.choice(dice)))\n",
    "    label2.configure(image=image2)\n",
    "    label2.image = image2\n",
    "\n",
    "label1 = tk.Label(window)\n",
    "label2 = tk.Label(window)\n",
    "\n",
    "label1.place(x=40, y=100)\n",
    "label2.place(x=300, y=100)\n",
    "\n",
    "button = tk.Button(window, text=\"ROLL\", bg=\"green\", fg=\"white\", command=dice_roll)\n",
    "button.place(x=230, y=0)\n",
    "\n",
    "window.mainloop()\n"
   ]
  },
  {
   "cell_type": "code",
   "execution_count": null,
   "id": "e8552f98",
   "metadata": {},
   "outputs": [],
   "source": []
  }
 ],
 "metadata": {
  "kernelspec": {
   "display_name": "Python 3 (ipykernel)",
   "language": "python",
   "name": "python3"
  },
  "language_info": {
   "codemirror_mode": {
    "name": "ipython",
    "version": 3
   },
   "file_extension": ".py",
   "mimetype": "text/x-python",
   "name": "python",
   "nbconvert_exporter": "python",
   "pygments_lexer": "ipython3",
   "version": "3.10.9"
  }
 },
 "nbformat": 4,
 "nbformat_minor": 5
}
